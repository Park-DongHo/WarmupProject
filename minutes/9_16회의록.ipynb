{
 "cells": [
  {
   "cell_type": "markdown",
   "metadata": {},
   "source": [
    "## 9/16 회의록\n",
    "\n",
    "### 1. 화상회의 (9:00)\n",
    "\n",
    "#### 결과  \n",
    "이희진 : 태그를 이용해서 클러스터를 하였으나, 활용이 안될거 같아 중단  \n",
    "\n",
    "최재현 : 레시피 페이지를 자바스크립트로 60% 구현  \n",
    "\n",
    "서예지 : 리뷰데이터 크롤링  \n",
    "\n",
    "유세빈 & 박동호 : 전체 구조도 설계 및 추가 기능 고안  \n",
    "\n",
    "=> 장고기반 웹서비스를 프로토타입을 만들어보자. 3명은 웹 구조 / 2명은 모델고민\n",
    "\n",
    "#### 오늘 할 일  \n",
    "이희진 : 질병에 좋지 않은 재료를 필터하고 영양소 위주 추천 구현  \n",
    "\n",
    "최재현 : 장고를 이용하여 웹 구조 설계  \n",
    "\n",
    "서예지 : 리뷰데이터를 이용하여  \n",
    "\n",
    "유세빈 : 누락 기능 연동 및 장고 이용 구조 설계  \n",
    "\n",
    "박동호 : 구조 설계 / 모델링 설계 고민"
   ]
  },
  {
   "cell_type": "code",
   "execution_count": null,
   "metadata": {},
   "outputs": [],
   "source": []
  }
 ],
 "metadata": {
  "kernelspec": {
   "display_name": "Python 3",
   "language": "python",
   "name": "python3"
  },
  "language_info": {
   "codemirror_mode": {
    "name": "ipython",
    "version": 3
   },
   "file_extension": ".py",
   "mimetype": "text/x-python",
   "name": "python",
   "nbconvert_exporter": "python",
   "pygments_lexer": "ipython3",
   "version": "3.7.6"
  }
 },
 "nbformat": 4,
 "nbformat_minor": 4
}
